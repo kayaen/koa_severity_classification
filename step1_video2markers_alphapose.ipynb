{
  "cells": [
    {
      "cell_type": "markdown",
      "metadata": {
        "id": "ydJO4v0uRJal"
      },
      "source": [
        "https://github.com/MVIG-SJTU/AlphaPose"
      ]
    },
    {
      "cell_type": "markdown",
      "metadata": {
        "id": "E1-Yjv2YdEEl"
      },
      "source": [
        "# Installation"
      ]
    },
    {
      "cell_type": "code",
      "execution_count": null,
      "metadata": {
        "colab": {
          "base_uri": "https://localhost:8080/"
        },
        "id": "KzvWvQkeRSuI",
        "outputId": "981b1bbb-73c0-4e08-ab47-6de5a0ae7d5c"
      },
      "outputs": [
        {
          "output_type": "stream",
          "name": "stdout",
          "text": [
            "2.3.0+cu121\n",
            "6.0.1\n",
            "1.11.4\n"
          ]
        }
      ],
      "source": [
        "import torch\n",
        "import yaml, scipy\n",
        "import os\n",
        "print(torch.__version__)\n",
        "print(yaml.__version__)\n",
        "print(scipy.__version__)"
      ]
    },
    {
      "cell_type": "code",
      "execution_count": null,
      "metadata": {
        "colab": {
          "base_uri": "https://localhost:8080/"
        },
        "id": "YkkNtO8qolbz",
        "outputId": "4b97b5fa-0e55-4ed1-fa85-7f57b07bbf41"
      },
      "outputs": [
        {
          "output_type": "stream",
          "name": "stdout",
          "text": [
            "Requirement already satisfied: cython in /usr/local/lib/python3.10/dist-packages (3.0.10)\n",
            "Reading package lists... Done\n",
            "Building dependency tree... Done\n",
            "Reading state information... Done\n",
            "Suggested packages:\n",
            "  libyaml-doc\n",
            "The following NEW packages will be installed:\n",
            "  libyaml-dev\n",
            "0 upgraded, 1 newly installed, 0 to remove and 45 not upgraded.\n",
            "Need to get 62.8 kB of archives.\n",
            "After this operation, 257 kB of additional disk space will be used.\n",
            "Get:1 http://archive.ubuntu.com/ubuntu jammy/main amd64 libyaml-dev amd64 0.2.2-1build2 [62.8 kB]\n",
            "Fetched 62.8 kB in 0s (420 kB/s)\n",
            "debconf: unable to initialize frontend: Dialog\n",
            "debconf: (No usable dialog-like program is installed, so the dialog based frontend cannot be used. at /usr/share/perl5/Debconf/FrontEnd/Dialog.pm line 78, <> line 1.)\n",
            "debconf: falling back to frontend: Readline\n",
            "debconf: unable to initialize frontend: Readline\n",
            "debconf: (This frontend requires a controlling tty.)\n",
            "debconf: falling back to frontend: Teletype\n",
            "dpkg-preconfigure: unable to re-open stdin: \n",
            "Selecting previously unselected package libyaml-dev:amd64.\n",
            "(Reading database ... 121913 files and directories currently installed.)\n",
            "Preparing to unpack .../libyaml-dev_0.2.2-1build2_amd64.deb ...\n",
            "Unpacking libyaml-dev:amd64 (0.2.2-1build2) ...\n",
            "Setting up libyaml-dev:amd64 (0.2.2-1build2) ...\n",
            "Collecting cython-bbox\n",
            "  Downloading cython_bbox-0.1.5.tar.gz (4.4 kB)\n",
            "  Preparing metadata (setup.py) ... \u001b[?25l\u001b[?25hdone\n",
            "Requirement already satisfied: Cython in /usr/local/lib/python3.10/dist-packages (from cython-bbox) (3.0.10)\n",
            "Requirement already satisfied: numpy in /usr/local/lib/python3.10/dist-packages (from cython-bbox) (1.25.2)\n",
            "Building wheels for collected packages: cython-bbox\n",
            "  Building wheel for cython-bbox (setup.py) ... \u001b[?25l\u001b[?25hdone\n",
            "  Created wheel for cython-bbox: filename=cython_bbox-0.1.5-cp310-cp310-linux_x86_64.whl size=99136 sha256=911e1851d082ffa2923b3a64b340953307dda93a70b977c867905407618aac79\n",
            "  Stored in directory: /root/.cache/pip/wheels/c0/b7/68/bab98b7180cda501101a57fb7d36884218ad45ec60c27cd679\n",
            "Successfully built cython-bbox\n",
            "Installing collected packages: cython-bbox\n",
            "Successfully installed cython-bbox-0.1.5\n"
          ]
        }
      ],
      "source": [
        "!python -m pip install cython\n",
        "!sudo apt-get install libyaml-dev\n",
        "!pip install cython-bbox"
      ]
    },
    {
      "cell_type": "code",
      "execution_count": null,
      "metadata": {
        "colab": {
          "base_uri": "https://localhost:8080/"
        },
        "id": "p-Gw3k4coyFD",
        "outputId": "6b90682f-57e9-4ebf-dbff-f85ad1fa8ee6"
      },
      "outputs": [
        {
          "output_type": "stream",
          "name": "stdout",
          "text": [
            "Cloning into 'AlphaPose'...\n",
            "remote: Enumerating objects: 2749, done.\u001b[K\n",
            "remote: Counting objects: 100% (10/10), done.\u001b[K\n",
            "remote: Compressing objects: 100% (10/10), done.\u001b[K\n",
            "remote: Total 2749 (delta 4), reused 1 (delta 0), pack-reused 2739\u001b[K\n",
            "Receiving objects: 100% (2749/2749), 118.82 MiB | 31.23 MiB/s, done.\n",
            "Resolving deltas: 100% (1379/1379), done.\n",
            "/content/AlphaPose\n",
            "Compiling detector/nms/src/soft_nms_cpu.pyx because it changed.\n",
            "[1/1] Cythonizing detector/nms/src/soft_nms_cpu.pyx\n",
            "/usr/local/lib/python3.10/dist-packages/setuptools/__init__.py:84: _DeprecatedInstaller: setuptools.installer and fetch_build_eggs are deprecated.\n",
            "!!\n",
            "\n",
            "        ********************************************************************************\n",
            "        Requirements should be satisfied by a PEP 517 installer.\n",
            "        If you are using pip, you can try `pip install --use-pep517`.\n",
            "        ********************************************************************************\n",
            "\n",
            "!!\n",
            "  dist.fetch_build_eggs(dist.setup_requires)\n",
            "running build\n",
            "running build_py\n",
            "creating build\n",
            "creating build/lib.linux-x86_64-cpython-310\n",
            "creating build/lib.linux-x86_64-cpython-310/alphapose\n",
            "copying alphapose/opt.py -> build/lib.linux-x86_64-cpython-310/alphapose\n",
            "copying alphapose/version.py -> build/lib.linux-x86_64-cpython-310/alphapose\n",
            "copying alphapose/__init__.py -> build/lib.linux-x86_64-cpython-310/alphapose\n",
            "creating build/lib.linux-x86_64-cpython-310/trackers\n",
            "copying trackers/tracker_api.py -> build/lib.linux-x86_64-cpython-310/trackers\n",
            "copying trackers/tracker_cfg.py -> build/lib.linux-x86_64-cpython-310/trackers\n",
            "copying trackers/__init__.py -> build/lib.linux-x86_64-cpython-310/trackers\n",
            "creating build/lib.linux-x86_64-cpython-310/alphapose/datasets\n",
            "copying alphapose/datasets/single_hand_det.py -> build/lib.linux-x86_64-cpython-310/alphapose/datasets\n",
            "copying alphapose/datasets/mscoco.py -> build/lib.linux-x86_64-cpython-310/alphapose/datasets\n",
            "copying alphapose/datasets/halpe_136.py -> build/lib.linux-x86_64-cpython-310/alphapose/datasets\n",
            "copying alphapose/datasets/coco_wholebody_det.py -> build/lib.linux-x86_64-cpython-310/alphapose/datasets\n",
            "copying alphapose/datasets/halpe_coco_wholebody_26.py -> build/lib.linux-x86_64-cpython-310/alphapose/datasets\n",
            "copying alphapose/datasets/halpe_136_det.py -> build/lib.linux-x86_64-cpython-310/alphapose/datasets\n",
            "copying alphapose/datasets/halpe_coco_wholebody_136.py -> build/lib.linux-x86_64-cpython-310/alphapose/datasets\n",
            "copying alphapose/datasets/halpe_coco_wholebody_136_det.py -> build/lib.linux-x86_64-cpython-310/alphapose/datasets\n",
            "copying alphapose/datasets/halpe_coco_wholebody_26_det.py -> build/lib.linux-x86_64-cpython-310/alphapose/datasets\n",
            "copying alphapose/datasets/custom.py -> build/lib.linux-x86_64-cpython-310/alphapose/datasets\n",
            "copying alphapose/datasets/coco_det.py -> build/lib.linux-x86_64-cpython-310/alphapose/datasets\n",
            "copying alphapose/datasets/halpe_68_noface_det.py -> build/lib.linux-x86_64-cpython-310/alphapose/datasets\n",
            "copying alphapose/datasets/coco_wholebody.py -> build/lib.linux-x86_64-cpython-310/alphapose/datasets\n",
            "copying alphapose/datasets/halpe_26.py -> build/lib.linux-x86_64-cpython-310/alphapose/datasets\n",
            "copying alphapose/datasets/halpe_68_noface.py -> build/lib.linux-x86_64-cpython-310/alphapose/datasets\n",
            "copying alphapose/datasets/mpii.py -> build/lib.linux-x86_64-cpython-310/alphapose/datasets\n",
            "copying alphapose/datasets/concat_dataset.py -> build/lib.linux-x86_64-cpython-310/alphapose/datasets\n",
            "copying alphapose/datasets/__init__.py -> build/lib.linux-x86_64-cpython-310/alphapose/datasets\n",
            "copying alphapose/datasets/halpe_26_det.py -> build/lib.linux-x86_64-cpython-310/alphapose/datasets\n",
            "copying alphapose/datasets/single_hand.py -> build/lib.linux-x86_64-cpython-310/alphapose/datasets\n",
            "creating build/lib.linux-x86_64-cpython-310/alphapose/models\n",
            "copying alphapose/models/builder.py -> build/lib.linux-x86_64-cpython-310/alphapose/models\n",
            "copying alphapose/models/fastpose_duc.py -> build/lib.linux-x86_64-cpython-310/alphapose/models\n",
            "copying alphapose/models/hardnet.py -> build/lib.linux-x86_64-cpython-310/alphapose/models\n",
            "copying alphapose/models/hrnet.py -> build/lib.linux-x86_64-cpython-310/alphapose/models\n",
            "copying alphapose/models/simple3dposeSMPLWithCam.py -> build/lib.linux-x86_64-cpython-310/alphapose/models\n",
            "copying alphapose/models/fastpose_duc_dense.py -> build/lib.linux-x86_64-cpython-310/alphapose/models\n",
            "copying alphapose/models/fastpose.py -> build/lib.linux-x86_64-cpython-310/alphapose/models\n",
            "copying alphapose/models/criterion.py -> build/lib.linux-x86_64-cpython-310/alphapose/models\n",
            "copying alphapose/models/simplepose.py -> build/lib.linux-x86_64-cpython-310/alphapose/models\n",
            "copying alphapose/models/__init__.py -> build/lib.linux-x86_64-cpython-310/alphapose/models\n",
            "creating build/lib.linux-x86_64-cpython-310/alphapose/utils\n",
            "copying alphapose/utils/render_pytorch3d.py -> build/lib.linux-x86_64-cpython-310/alphapose/utils\n",
            "copying alphapose/utils/registry.py -> build/lib.linux-x86_64-cpython-310/alphapose/utils\n",
            "copying alphapose/utils/webcam_detector.py -> build/lib.linux-x86_64-cpython-310/alphapose/utils\n",
            "copying alphapose/utils/detector.py -> build/lib.linux-x86_64-cpython-310/alphapose/utils\n",
            "copying alphapose/utils/logger.py -> build/lib.linux-x86_64-cpython-310/alphapose/utils\n",
            "copying alphapose/utils/transforms.py -> build/lib.linux-x86_64-cpython-310/alphapose/utils\n",
            "copying alphapose/utils/metrics.py -> build/lib.linux-x86_64-cpython-310/alphapose/utils\n",
            "copying alphapose/utils/pPose_nms.py -> build/lib.linux-x86_64-cpython-310/alphapose/utils\n",
            "copying alphapose/utils/bbox.py -> build/lib.linux-x86_64-cpython-310/alphapose/utils\n",
            "copying alphapose/utils/writer_smpl.py -> build/lib.linux-x86_64-cpython-310/alphapose/utils\n",
            "copying alphapose/utils/file_detector.py -> build/lib.linux-x86_64-cpython-310/alphapose/utils\n",
            "copying alphapose/utils/config.py -> build/lib.linux-x86_64-cpython-310/alphapose/utils\n",
            "copying alphapose/utils/vis.py -> build/lib.linux-x86_64-cpython-310/alphapose/utils\n",
            "copying alphapose/utils/writer.py -> build/lib.linux-x86_64-cpython-310/alphapose/utils\n",
            "copying alphapose/utils/env.py -> build/lib.linux-x86_64-cpython-310/alphapose/utils\n",
            "copying alphapose/utils/__init__.py -> build/lib.linux-x86_64-cpython-310/alphapose/utils\n",
            "creating build/lib.linux-x86_64-cpython-310/alphapose/utils/roi_align\n",
            "copying alphapose/utils/roi_align/roi_align.py -> build/lib.linux-x86_64-cpython-310/alphapose/utils/roi_align\n",
            "copying alphapose/utils/roi_align/__init__.py -> build/lib.linux-x86_64-cpython-310/alphapose/utils/roi_align\n",
            "creating build/lib.linux-x86_64-cpython-310/alphapose/utils/presets\n",
            "copying alphapose/utils/presets/simple_transform.py -> build/lib.linux-x86_64-cpython-310/alphapose/utils/presets\n",
            "copying alphapose/utils/presets/simple_transform_3d_smpl.py -> build/lib.linux-x86_64-cpython-310/alphapose/utils/presets\n",
            "copying alphapose/utils/presets/__init__.py -> build/lib.linux-x86_64-cpython-310/alphapose/utils/presets\n",
            "creating build/lib.linux-x86_64-cpython-310/trackers/tracking\n",
            "copying trackers/tracking/basetrack.py -> build/lib.linux-x86_64-cpython-310/trackers/tracking\n",
            "copying trackers/tracking/matching.py -> build/lib.linux-x86_64-cpython-310/trackers/tracking\n",
            "copying trackers/tracking/__init__.py -> build/lib.linux-x86_64-cpython-310/trackers/tracking\n",
            "creating build/lib.linux-x86_64-cpython-310/trackers/ReidModels\n",
            "copying trackers/ReidModels/bn_linear.py -> build/lib.linux-x86_64-cpython-310/trackers/ReidModels\n",
            "copying trackers/ReidModels/ResNet.py -> build/lib.linux-x86_64-cpython-310/trackers/ReidModels\n",
            "copying trackers/ReidModels/net_utils.py -> build/lib.linux-x86_64-cpython-310/trackers/ReidModels\n",
            "copying trackers/ReidModels/resnet_fc.py -> build/lib.linux-x86_64-cpython-310/trackers/ReidModels\n",
            "copying trackers/ReidModels/osnet_ain.py -> build/lib.linux-x86_64-cpython-310/trackers/ReidModels\n",
            "copying trackers/ReidModels/ResBnLin.py -> build/lib.linux-x86_64-cpython-310/trackers/ReidModels\n",
            "copying trackers/ReidModels/osnet.py -> build/lib.linux-x86_64-cpython-310/trackers/ReidModels\n",
            "copying trackers/ReidModels/__init__.py -> build/lib.linux-x86_64-cpython-310/trackers/ReidModels\n",
            "creating build/lib.linux-x86_64-cpython-310/trackers/tracking/utils\n",
            "copying trackers/tracking/utils/parse_config.py -> build/lib.linux-x86_64-cpython-310/trackers/tracking/utils\n",
            "copying trackers/tracking/utils/kalman_filter.py -> build/lib.linux-x86_64-cpython-310/trackers/tracking/utils\n",
            "copying trackers/tracking/utils/io.py -> build/lib.linux-x86_64-cpython-310/trackers/tracking/utils\n",
            "copying trackers/tracking/utils/timer.py -> build/lib.linux-x86_64-cpython-310/trackers/tracking/utils\n",
            "copying trackers/tracking/utils/nms.py -> build/lib.linux-x86_64-cpython-310/trackers/tracking/utils\n",
            "copying trackers/tracking/utils/utils.py -> build/lib.linux-x86_64-cpython-310/trackers/tracking/utils\n",
            "copying trackers/tracking/utils/__init__.py -> build/lib.linux-x86_64-cpython-310/trackers/tracking/utils\n",
            "creating build/lib.linux-x86_64-cpython-310/trackers/ReidModels/psroi_pooling\n",
            "copying trackers/ReidModels/psroi_pooling/build.py -> build/lib.linux-x86_64-cpython-310/trackers/ReidModels/psroi_pooling\n",
            "copying trackers/ReidModels/psroi_pooling/__init__.py -> build/lib.linux-x86_64-cpython-310/trackers/ReidModels/psroi_pooling\n",
            "creating build/lib.linux-x86_64-cpython-310/trackers/ReidModels/classification\n",
            "copying trackers/ReidModels/classification/rfcn_cls.py -> build/lib.linux-x86_64-cpython-310/trackers/ReidModels/classification\n",
            "copying trackers/ReidModels/classification/classifier.py -> build/lib.linux-x86_64-cpython-310/trackers/ReidModels/classification\n",
            "copying trackers/ReidModels/classification/__init__.py -> build/lib.linux-x86_64-cpython-310/trackers/ReidModels/classification\n",
            "creating build/lib.linux-x86_64-cpython-310/trackers/ReidModels/reid\n",
            "copying trackers/ReidModels/reid/image_part_aligned.py -> build/lib.linux-x86_64-cpython-310/trackers/ReidModels/reid\n",
            "copying trackers/ReidModels/reid/__init__.py -> build/lib.linux-x86_64-cpython-310/trackers/ReidModels/reid\n",
            "creating build/lib.linux-x86_64-cpython-310/trackers/ReidModels/backbone\n",
            "copying trackers/ReidModels/backbone/googlenet.py -> build/lib.linux-x86_64-cpython-310/trackers/ReidModels/backbone\n",
            "copying trackers/ReidModels/backbone/lrn.py -> build/lib.linux-x86_64-cpython-310/trackers/ReidModels/backbone\n",
            "copying trackers/ReidModels/backbone/sqeezenet.py -> build/lib.linux-x86_64-cpython-310/trackers/ReidModels/backbone\n",
            "copying trackers/ReidModels/backbone/__init__.py -> build/lib.linux-x86_64-cpython-310/trackers/ReidModels/backbone\n",
            "creating build/lib.linux-x86_64-cpython-310/trackers/ReidModels/psroi_pooling/_ext\n",
            "copying trackers/ReidModels/psroi_pooling/_ext/__init__.py -> build/lib.linux-x86_64-cpython-310/trackers/ReidModels/psroi_pooling/_ext\n",
            "creating build/lib.linux-x86_64-cpython-310/trackers/ReidModels/psroi_pooling/modules\n",
            "copying trackers/ReidModels/psroi_pooling/modules/psroi_pool.py -> build/lib.linux-x86_64-cpython-310/trackers/ReidModels/psroi_pooling/modules\n",
            "copying trackers/ReidModels/psroi_pooling/modules/__init__.py -> build/lib.linux-x86_64-cpython-310/trackers/ReidModels/psroi_pooling/modules\n",
            "creating build/lib.linux-x86_64-cpython-310/trackers/ReidModels/psroi_pooling/functions\n",
            "copying trackers/ReidModels/psroi_pooling/functions/psroi_pooling.py -> build/lib.linux-x86_64-cpython-310/trackers/ReidModels/psroi_pooling/functions\n",
            "copying trackers/ReidModels/psroi_pooling/functions/__init__.py -> build/lib.linux-x86_64-cpython-310/trackers/ReidModels/psroi_pooling/functions\n",
            "creating build/lib.linux-x86_64-cpython-310/trackers/ReidModels/psroi_pooling/_ext/psroi_pooling\n",
            "copying trackers/ReidModels/psroi_pooling/_ext/psroi_pooling/__init__.py -> build/lib.linux-x86_64-cpython-310/trackers/ReidModels/psroi_pooling/_ext/psroi_pooling\n",
            "running build_ext\n",
            "/usr/local/lib/python3.10/dist-packages/torch/utils/cpp_extension.py:499: UserWarning: Attempted to use ninja as the BuildExtension backend but we could not find ninja.. Falling back to using the slow distutils backend.\n",
            "  warnings.warn(msg.format('we could not find ninja.'))\n",
            "/usr/local/lib/python3.10/dist-packages/torch/utils/cpp_extension.py:418: UserWarning: The detected CUDA version (12.2) has a minor version mismatch with the version that was used to compile PyTorch (12.1). Most likely this shouldn't be a problem.\n",
            "  warnings.warn(CUDA_MISMATCH_WARN.format(cuda_str_version, torch.version.cuda))\n",
            "/usr/local/lib/python3.10/dist-packages/torch/utils/cpp_extension.py:428: UserWarning: There are no x86_64-linux-gnu-g++ version bounds defined for CUDA version 12.2\n",
            "  warnings.warn(f'There are no {compiler_name} version bounds defined for CUDA version {cuda_str_version}')\n",
            "building 'detector.nms.soft_nms_cpu' extension\n",
            "creating build/temp.linux-x86_64-cpython-310\n",
            "creating build/temp.linux-x86_64-cpython-310/detector\n",
            "creating build/temp.linux-x86_64-cpython-310/detector/nms\n",
            "creating build/temp.linux-x86_64-cpython-310/detector/nms/src\n",
            "x86_64-linux-gnu-gcc -Wno-unused-result -Wsign-compare -DNDEBUG -g -fwrapv -O2 -Wall -g -fstack-protector-strong -Wformat -Werror=format-security -g -fwrapv -O2 -fPIC -I/usr/local/lib/python3.10/dist-packages/numpy/core/include -I/usr/include/python3.10 -c detector/nms/src/soft_nms_cpu.cpp -o build/temp.linux-x86_64-cpython-310/detector/nms/src/soft_nms_cpu.o -Wno-unused-function -Wno-write-strings -DTORCH_API_INCLUDE_EXTENSION_H -DPYBIND11_COMPILER_TYPE=\\\"_gcc\\\" -DPYBIND11_STDLIB=\\\"_libstdcpp\\\" -DPYBIND11_BUILD_ABI=\\\"_cxxabi1011\\\" -DTORCH_EXTENSION_NAME=soft_nms_cpu -D_GLIBCXX_USE_CXX11_ABI=0 -std=c++17\n",
            "In file included from \u001b[01m\u001b[K/usr/local/lib/python3.10/dist-packages/numpy/core/include/numpy/ndarraytypes.h:1929\u001b[m\u001b[K,\n",
            "                 from \u001b[01m\u001b[K/usr/local/lib/python3.10/dist-packages/numpy/core/include/numpy/ndarrayobject.h:12\u001b[m\u001b[K,\n",
            "                 from \u001b[01m\u001b[K/usr/local/lib/python3.10/dist-packages/numpy/core/include/numpy/arrayobject.h:5\u001b[m\u001b[K,\n",
            "                 from \u001b[01m\u001b[Kdetector/nms/src/soft_nms_cpu.cpp:1268\u001b[m\u001b[K:\n",
            "\u001b[01m\u001b[K/usr/local/lib/python3.10/dist-packages/numpy/core/include/numpy/npy_1_7_deprecated_api.h:17:2:\u001b[m\u001b[K \u001b[01;35m\u001b[Kwarning: \u001b[m\u001b[K#warning \"Using deprecated NumPy API, disable it with \" \"#define NPY_NO_DEPRECATED_API NPY_1_7_API_VERSION\" [\u001b[01;35m\u001b[K\u001b]8;;https://gcc.gnu.org/onlinedocs/gcc/Warning-Options.html#index-Wcpp\u0007-Wcpp\u001b]8;;\u0007\u001b[m\u001b[K]\n",
            "   17 | #\u001b[01;35m\u001b[Kwarning\u001b[m\u001b[K \"Using deprecated NumPy API, disable it with \" \\\n",
            "      |  \u001b[01;35m\u001b[K^~~~~~~\u001b[m\u001b[K\n",
            "creating build/lib.linux-x86_64-cpython-310/detector\n",
            "creating build/lib.linux-x86_64-cpython-310/detector/nms\n",
            "x86_64-linux-gnu-g++ -shared -Wl,-O1 -Wl,-Bsymbolic-functions -Wl,-Bsymbolic-functions -g -fwrapv -O2 build/temp.linux-x86_64-cpython-310/detector/nms/src/soft_nms_cpu.o -L/usr/lib/x86_64-linux-gnu -o build/lib.linux-x86_64-cpython-310/detector/nms/soft_nms_cpu.cpython-310-x86_64-linux-gnu.so\n",
            "building 'detector.nms.nms_cpu' extension\n",
            "x86_64-linux-gnu-gcc -Wno-unused-result -Wsign-compare -DNDEBUG -g -fwrapv -O2 -Wall -g -fstack-protector-strong -Wformat -Werror=format-security -g -fwrapv -O2 -fPIC -I/usr/local/lib/python3.10/dist-packages/torch/include -I/usr/local/lib/python3.10/dist-packages/torch/include/torch/csrc/api/include -I/usr/local/lib/python3.10/dist-packages/torch/include/TH -I/usr/local/lib/python3.10/dist-packages/torch/include/THC -I/usr/local/cuda/include -I/usr/include/python3.10 -c detector/nms/src/nms_cpu.cpp -o build/temp.linux-x86_64-cpython-310/detector/nms/src/nms_cpu.o -DTORCH_API_INCLUDE_EXTENSION_H -DPYBIND11_COMPILER_TYPE=\\\"_gcc\\\" -DPYBIND11_STDLIB=\\\"_libstdcpp\\\" -DPYBIND11_BUILD_ABI=\\\"_cxxabi1011\\\" -DTORCH_EXTENSION_NAME=nms_cpu -D_GLIBCXX_USE_CXX11_ABI=0 -std=c++17\n",
            "x86_64-linux-gnu-g++ -shared -Wl,-O1 -Wl,-Bsymbolic-functions -Wl,-Bsymbolic-functions -g -fwrapv -O2 build/temp.linux-x86_64-cpython-310/detector/nms/src/nms_cpu.o -L/usr/local/lib/python3.10/dist-packages/torch/lib -L/usr/local/cuda/lib64 -L/usr/lib/x86_64-linux-gnu -lc10 -ltorch -ltorch_cpu -ltorch_python -lcudart -lc10_cuda -ltorch_cuda -o build/lib.linux-x86_64-cpython-310/detector/nms/nms_cpu.cpython-310-x86_64-linux-gnu.so\n",
            "building 'detector.nms.nms_cuda' extension\n",
            "x86_64-linux-gnu-gcc -Wno-unused-result -Wsign-compare -DNDEBUG -g -fwrapv -O2 -Wall -g -fstack-protector-strong -Wformat -Werror=format-security -g -fwrapv -O2 -fPIC -I/usr/local/lib/python3.10/dist-packages/torch/include -I/usr/local/lib/python3.10/dist-packages/torch/include/torch/csrc/api/include -I/usr/local/lib/python3.10/dist-packages/torch/include/TH -I/usr/local/lib/python3.10/dist-packages/torch/include/THC -I/usr/local/cuda/include -I/usr/include/python3.10 -c detector/nms/src/nms_cuda.cpp -o build/temp.linux-x86_64-cpython-310/detector/nms/src/nms_cuda.o -DTORCH_API_INCLUDE_EXTENSION_H -DPYBIND11_COMPILER_TYPE=\\\"_gcc\\\" -DPYBIND11_STDLIB=\\\"_libstdcpp\\\" -DPYBIND11_BUILD_ABI=\\\"_cxxabi1011\\\" -DTORCH_EXTENSION_NAME=nms_cuda -D_GLIBCXX_USE_CXX11_ABI=0 -std=c++17\n",
            "/usr/local/lib/python3.10/dist-packages/torch/utils/cpp_extension.py:1967: UserWarning: TORCH_CUDA_ARCH_LIST is not set, all archs for visible cards are included for compilation. \n",
            "If this is not desired, please set os.environ['TORCH_CUDA_ARCH_LIST'].\n",
            "  warnings.warn(\n",
            "/usr/local/cuda/bin/nvcc -I/usr/local/lib/python3.10/dist-packages/torch/include -I/usr/local/lib/python3.10/dist-packages/torch/include/torch/csrc/api/include -I/usr/local/lib/python3.10/dist-packages/torch/include/TH -I/usr/local/lib/python3.10/dist-packages/torch/include/THC -I/usr/local/cuda/include -I/usr/include/python3.10 -c detector/nms/src/nms_kernel.cu -o build/temp.linux-x86_64-cpython-310/detector/nms/src/nms_kernel.o -D__CUDA_NO_HALF_OPERATORS__ -D__CUDA_NO_HALF_CONVERSIONS__ -D__CUDA_NO_BFLOAT16_CONVERSIONS__ -D__CUDA_NO_HALF2_OPERATORS__ --expt-relaxed-constexpr --compiler-options '-fPIC' -D__CUDA_NO_HALF_OPERATORS__ -D__CUDA_NO_HALF_CONVERSIONS__ -D__CUDA_NO_HALF2_OPERATORS__ -DTORCH_API_INCLUDE_EXTENSION_H -DPYBIND11_COMPILER_TYPE=\\\"_gcc\\\" -DPYBIND11_STDLIB=\\\"_libstdcpp\\\" -DPYBIND11_BUILD_ABI=\\\"_cxxabi1011\\\" -DTORCH_EXTENSION_NAME=nms_cuda -D_GLIBCXX_USE_CXX11_ABI=0 -gencode=arch=compute_75,code=compute_75 -gencode=arch=compute_75,code=sm_75 -std=c++17\n",
            "x86_64-linux-gnu-g++ -shared -Wl,-O1 -Wl,-Bsymbolic-functions -Wl,-Bsymbolic-functions -g -fwrapv -O2 build/temp.linux-x86_64-cpython-310/detector/nms/src/nms_cuda.o build/temp.linux-x86_64-cpython-310/detector/nms/src/nms_kernel.o -L/usr/local/lib/python3.10/dist-packages/torch/lib -L/usr/local/cuda/lib64 -L/usr/lib/x86_64-linux-gnu -lc10 -ltorch -ltorch_cpu -ltorch_python -lcudart -lc10_cuda -ltorch_cuda -o build/lib.linux-x86_64-cpython-310/detector/nms/nms_cuda.cpython-310-x86_64-linux-gnu.so\n",
            "building 'alphapose.utils.roi_align.roi_align_cuda' extension\n",
            "creating build/temp.linux-x86_64-cpython-310/alphapose\n",
            "creating build/temp.linux-x86_64-cpython-310/alphapose/utils\n",
            "creating build/temp.linux-x86_64-cpython-310/alphapose/utils/roi_align\n",
            "creating build/temp.linux-x86_64-cpython-310/alphapose/utils/roi_align/src\n",
            "x86_64-linux-gnu-gcc -Wno-unused-result -Wsign-compare -DNDEBUG -g -fwrapv -O2 -Wall -g -fstack-protector-strong -Wformat -Werror=format-security -g -fwrapv -O2 -fPIC -I/usr/local/lib/python3.10/dist-packages/torch/include -I/usr/local/lib/python3.10/dist-packages/torch/include/torch/csrc/api/include -I/usr/local/lib/python3.10/dist-packages/torch/include/TH -I/usr/local/lib/python3.10/dist-packages/torch/include/THC -I/usr/local/cuda/include -I/usr/include/python3.10 -c alphapose/utils/roi_align/src/roi_align_cuda.cpp -o build/temp.linux-x86_64-cpython-310/alphapose/utils/roi_align/src/roi_align_cuda.o -DTORCH_API_INCLUDE_EXTENSION_H -DPYBIND11_COMPILER_TYPE=\\\"_gcc\\\" -DPYBIND11_STDLIB=\\\"_libstdcpp\\\" -DPYBIND11_BUILD_ABI=\\\"_cxxabi1011\\\" -DTORCH_EXTENSION_NAME=roi_align_cuda -D_GLIBCXX_USE_CXX11_ABI=0 -std=c++17\n",
            "/usr/local/cuda/bin/nvcc -I/usr/local/lib/python3.10/dist-packages/torch/include -I/usr/local/lib/python3.10/dist-packages/torch/include/torch/csrc/api/include -I/usr/local/lib/python3.10/dist-packages/torch/include/TH -I/usr/local/lib/python3.10/dist-packages/torch/include/THC -I/usr/local/cuda/include -I/usr/include/python3.10 -c alphapose/utils/roi_align/src/roi_align_kernel.cu -o build/temp.linux-x86_64-cpython-310/alphapose/utils/roi_align/src/roi_align_kernel.o -D__CUDA_NO_HALF_OPERATORS__ -D__CUDA_NO_HALF_CONVERSIONS__ -D__CUDA_NO_BFLOAT16_CONVERSIONS__ -D__CUDA_NO_HALF2_OPERATORS__ --expt-relaxed-constexpr --compiler-options '-fPIC' -D__CUDA_NO_HALF_OPERATORS__ -D__CUDA_NO_HALF_CONVERSIONS__ -D__CUDA_NO_HALF2_OPERATORS__ -DTORCH_API_INCLUDE_EXTENSION_H -DPYBIND11_COMPILER_TYPE=\\\"_gcc\\\" -DPYBIND11_STDLIB=\\\"_libstdcpp\\\" -DPYBIND11_BUILD_ABI=\\\"_cxxabi1011\\\" -DTORCH_EXTENSION_NAME=roi_align_cuda -D_GLIBCXX_USE_CXX11_ABI=0 -gencode=arch=compute_75,code=compute_75 -gencode=arch=compute_75,code=sm_75 -std=c++17\n",
            "x86_64-linux-gnu-g++ -shared -Wl,-O1 -Wl,-Bsymbolic-functions -Wl,-Bsymbolic-functions -g -fwrapv -O2 build/temp.linux-x86_64-cpython-310/alphapose/utils/roi_align/src/roi_align_cuda.o build/temp.linux-x86_64-cpython-310/alphapose/utils/roi_align/src/roi_align_kernel.o -L/usr/local/lib/python3.10/dist-packages/torch/lib -L/usr/local/cuda/lib64 -L/usr/lib/x86_64-linux-gnu -lc10 -ltorch -ltorch_cpu -ltorch_python -lcudart -lc10_cuda -ltorch_cuda -o build/lib.linux-x86_64-cpython-310/alphapose/utils/roi_align/roi_align_cuda.cpython-310-x86_64-linux-gnu.so\n",
            "building 'alphapose.models.layers.dcn.deform_conv_cuda' extension\n",
            "creating build/temp.linux-x86_64-cpython-310/alphapose/models\n",
            "creating build/temp.linux-x86_64-cpython-310/alphapose/models/layers\n",
            "creating build/temp.linux-x86_64-cpython-310/alphapose/models/layers/dcn\n",
            "creating build/temp.linux-x86_64-cpython-310/alphapose/models/layers/dcn/src\n",
            "x86_64-linux-gnu-gcc -Wno-unused-result -Wsign-compare -DNDEBUG -g -fwrapv -O2 -Wall -g -fstack-protector-strong -Wformat -Werror=format-security -g -fwrapv -O2 -fPIC -I/usr/local/lib/python3.10/dist-packages/torch/include -I/usr/local/lib/python3.10/dist-packages/torch/include/torch/csrc/api/include -I/usr/local/lib/python3.10/dist-packages/torch/include/TH -I/usr/local/lib/python3.10/dist-packages/torch/include/THC -I/usr/local/cuda/include -I/usr/include/python3.10 -c alphapose/models/layers/dcn/src/deform_conv_cuda.cpp -o build/temp.linux-x86_64-cpython-310/alphapose/models/layers/dcn/src/deform_conv_cuda.o -DTORCH_API_INCLUDE_EXTENSION_H -DPYBIND11_COMPILER_TYPE=\\\"_gcc\\\" -DPYBIND11_STDLIB=\\\"_libstdcpp\\\" -DPYBIND11_BUILD_ABI=\\\"_cxxabi1011\\\" -DTORCH_EXTENSION_NAME=deform_conv_cuda -D_GLIBCXX_USE_CXX11_ABI=0 -std=c++17\n",
            "/usr/local/cuda/bin/nvcc -I/usr/local/lib/python3.10/dist-packages/torch/include -I/usr/local/lib/python3.10/dist-packages/torch/include/torch/csrc/api/include -I/usr/local/lib/python3.10/dist-packages/torch/include/TH -I/usr/local/lib/python3.10/dist-packages/torch/include/THC -I/usr/local/cuda/include -I/usr/include/python3.10 -c alphapose/models/layers/dcn/src/deform_conv_cuda_kernel.cu -o build/temp.linux-x86_64-cpython-310/alphapose/models/layers/dcn/src/deform_conv_cuda_kernel.o -D__CUDA_NO_HALF_OPERATORS__ -D__CUDA_NO_HALF_CONVERSIONS__ -D__CUDA_NO_BFLOAT16_CONVERSIONS__ -D__CUDA_NO_HALF2_OPERATORS__ --expt-relaxed-constexpr --compiler-options '-fPIC' -D__CUDA_NO_HALF_OPERATORS__ -D__CUDA_NO_HALF_CONVERSIONS__ -D__CUDA_NO_HALF2_OPERATORS__ -DTORCH_API_INCLUDE_EXTENSION_H -DPYBIND11_COMPILER_TYPE=\\\"_gcc\\\" -DPYBIND11_STDLIB=\\\"_libstdcpp\\\" -DPYBIND11_BUILD_ABI=\\\"_cxxabi1011\\\" -DTORCH_EXTENSION_NAME=deform_conv_cuda -D_GLIBCXX_USE_CXX11_ABI=0 -gencode=arch=compute_75,code=compute_75 -gencode=arch=compute_75,code=sm_75 -std=c++17\n",
            "creating build/lib.linux-x86_64-cpython-310/alphapose/models/layers\n",
            "creating build/lib.linux-x86_64-cpython-310/alphapose/models/layers/dcn\n",
            "x86_64-linux-gnu-g++ -shared -Wl,-O1 -Wl,-Bsymbolic-functions -Wl,-Bsymbolic-functions -g -fwrapv -O2 build/temp.linux-x86_64-cpython-310/alphapose/models/layers/dcn/src/deform_conv_cuda.o build/temp.linux-x86_64-cpython-310/alphapose/models/layers/dcn/src/deform_conv_cuda_kernel.o -L/usr/local/lib/python3.10/dist-packages/torch/lib -L/usr/local/cuda/lib64 -L/usr/lib/x86_64-linux-gnu -lc10 -ltorch -ltorch_cpu -ltorch_python -lcudart -lc10_cuda -ltorch_cuda -o build/lib.linux-x86_64-cpython-310/alphapose/models/layers/dcn/deform_conv_cuda.cpython-310-x86_64-linux-gnu.so\n",
            "building 'alphapose.models.layers.dcn.deform_pool_cuda' extension\n",
            "x86_64-linux-gnu-gcc -Wno-unused-result -Wsign-compare -DNDEBUG -g -fwrapv -O2 -Wall -g -fstack-protector-strong -Wformat -Werror=format-security -g -fwrapv -O2 -fPIC -I/usr/local/lib/python3.10/dist-packages/torch/include -I/usr/local/lib/python3.10/dist-packages/torch/include/torch/csrc/api/include -I/usr/local/lib/python3.10/dist-packages/torch/include/TH -I/usr/local/lib/python3.10/dist-packages/torch/include/THC -I/usr/local/cuda/include -I/usr/include/python3.10 -c alphapose/models/layers/dcn/src/deform_pool_cuda.cpp -o build/temp.linux-x86_64-cpython-310/alphapose/models/layers/dcn/src/deform_pool_cuda.o -DTORCH_API_INCLUDE_EXTENSION_H -DPYBIND11_COMPILER_TYPE=\\\"_gcc\\\" -DPYBIND11_STDLIB=\\\"_libstdcpp\\\" -DPYBIND11_BUILD_ABI=\\\"_cxxabi1011\\\" -DTORCH_EXTENSION_NAME=deform_pool_cuda -D_GLIBCXX_USE_CXX11_ABI=0 -std=c++17\n",
            "/usr/local/cuda/bin/nvcc -I/usr/local/lib/python3.10/dist-packages/torch/include -I/usr/local/lib/python3.10/dist-packages/torch/include/torch/csrc/api/include -I/usr/local/lib/python3.10/dist-packages/torch/include/TH -I/usr/local/lib/python3.10/dist-packages/torch/include/THC -I/usr/local/cuda/include -I/usr/include/python3.10 -c alphapose/models/layers/dcn/src/deform_pool_cuda_kernel.cu -o build/temp.linux-x86_64-cpython-310/alphapose/models/layers/dcn/src/deform_pool_cuda_kernel.o -D__CUDA_NO_HALF_OPERATORS__ -D__CUDA_NO_HALF_CONVERSIONS__ -D__CUDA_NO_BFLOAT16_CONVERSIONS__ -D__CUDA_NO_HALF2_OPERATORS__ --expt-relaxed-constexpr --compiler-options '-fPIC' -D__CUDA_NO_HALF_OPERATORS__ -D__CUDA_NO_HALF_CONVERSIONS__ -D__CUDA_NO_HALF2_OPERATORS__ -DTORCH_API_INCLUDE_EXTENSION_H -DPYBIND11_COMPILER_TYPE=\\\"_gcc\\\" -DPYBIND11_STDLIB=\\\"_libstdcpp\\\" -DPYBIND11_BUILD_ABI=\\\"_cxxabi1011\\\" -DTORCH_EXTENSION_NAME=deform_pool_cuda -D_GLIBCXX_USE_CXX11_ABI=0 -gencode=arch=compute_75,code=compute_75 -gencode=arch=compute_75,code=sm_75 -std=c++17\n",
            "x86_64-linux-gnu-g++ -shared -Wl,-O1 -Wl,-Bsymbolic-functions -Wl,-Bsymbolic-functions -g -fwrapv -O2 build/temp.linux-x86_64-cpython-310/alphapose/models/layers/dcn/src/deform_pool_cuda.o build/temp.linux-x86_64-cpython-310/alphapose/models/layers/dcn/src/deform_pool_cuda_kernel.o -L/usr/local/lib/python3.10/dist-packages/torch/lib -L/usr/local/cuda/lib64 -L/usr/lib/x86_64-linux-gnu -lc10 -ltorch -ltorch_cpu -ltorch_python -lcudart -lc10_cuda -ltorch_cuda -o build/lib.linux-x86_64-cpython-310/alphapose/models/layers/dcn/deform_pool_cuda.cpython-310-x86_64-linux-gnu.so\n",
            "running develop\n",
            "/usr/local/lib/python3.10/dist-packages/setuptools/command/develop.py:40: EasyInstallDeprecationWarning: easy_install command is deprecated.\n",
            "!!\n",
            "\n",
            "        ********************************************************************************\n",
            "        Please avoid running ``setup.py`` and ``easy_install``.\n",
            "        Instead, use pypa/build, pypa/installer, pypa/build or\n",
            "        other standards-based tools.\n",
            "\n",
            "        See https://github.com/pypa/setuptools/issues/917 for details.\n",
            "        ********************************************************************************\n",
            "\n",
            "!!\n",
            "  easy_install.initialize_options(self)\n",
            "/usr/local/lib/python3.10/dist-packages/setuptools/_distutils/cmd.py:66: SetuptoolsDeprecationWarning: setup.py install is deprecated.\n",
            "!!\n",
            "\n",
            "        ********************************************************************************\n",
            "        Please avoid running ``setup.py`` directly.\n",
            "        Instead, use pypa/build, pypa/installer, pypa/build or\n",
            "        other standards-based tools.\n",
            "\n",
            "        See https://blog.ganssle.io/articles/2021/10/setup-py-deprecated.html for details.\n",
            "        ********************************************************************************\n",
            "\n",
            "!!\n",
            "  self.initialize_options()\n",
            "running egg_info\n",
            "creating alphapose.egg-info\n",
            "writing alphapose.egg-info/PKG-INFO\n",
            "writing dependency_links to alphapose.egg-info/dependency_links.txt\n",
            "writing requirements to alphapose.egg-info/requires.txt\n",
            "writing top-level names to alphapose.egg-info/top_level.txt\n",
            "writing manifest file 'alphapose.egg-info/SOURCES.txt'\n",
            "reading manifest file 'alphapose.egg-info/SOURCES.txt'\n",
            "adding license file 'LICENSE'\n",
            "writing manifest file 'alphapose.egg-info/SOURCES.txt'\n",
            "running build_ext\n",
            "/usr/local/lib/python3.10/dist-packages/torch/utils/cpp_extension.py:418: UserWarning: The detected CUDA version (12.2) has a minor version mismatch with the version that was used to compile PyTorch (12.1). Most likely this shouldn't be a problem.\n",
            "  warnings.warn(CUDA_MISMATCH_WARN.format(cuda_str_version, torch.version.cuda))\n",
            "/usr/local/lib/python3.10/dist-packages/torch/utils/cpp_extension.py:428: UserWarning: There are no x86_64-linux-gnu-g++ version bounds defined for CUDA version 12.2\n",
            "  warnings.warn(f'There are no {compiler_name} version bounds defined for CUDA version {cuda_str_version}')\n",
            "copying build/lib.linux-x86_64-cpython-310/detector/nms/soft_nms_cpu.cpython-310-x86_64-linux-gnu.so -> detector/nms\n",
            "copying build/lib.linux-x86_64-cpython-310/detector/nms/nms_cpu.cpython-310-x86_64-linux-gnu.so -> detector/nms\n",
            "copying build/lib.linux-x86_64-cpython-310/detector/nms/nms_cuda.cpython-310-x86_64-linux-gnu.so -> detector/nms\n",
            "copying build/lib.linux-x86_64-cpython-310/alphapose/utils/roi_align/roi_align_cuda.cpython-310-x86_64-linux-gnu.so -> alphapose/utils/roi_align\n",
            "copying build/lib.linux-x86_64-cpython-310/alphapose/models/layers/dcn/deform_conv_cuda.cpython-310-x86_64-linux-gnu.so -> alphapose/models/layers/dcn\n",
            "copying build/lib.linux-x86_64-cpython-310/alphapose/models/layers/dcn/deform_pool_cuda.cpython-310-x86_64-linux-gnu.so -> alphapose/models/layers/dcn\n",
            "Creating /usr/local/lib/python3.10/dist-packages/alphapose.egg-link (link to .)\n",
            "Adding alphapose 0.5.0+c60106d to easy-install.pth file\n",
            "\n",
            "Installed /content/AlphaPose\n",
            "Processing dependencies for alphapose==0.5.0+c60106d\n",
            "Searching for timm==0.1.20\n",
            "Reading https://pypi.tuna.tsinghua.edu.cn/simple/timm/\n",
            "Downloading https://pypi.tuna.tsinghua.edu.cn/packages/89/26/ba294669cc5cc4d09efd1964c8df752dc0955ac26f86bdeec582aed77d1d/timm-0.1.20-py3-none-any.whl#sha256=f63fca201f637dfdd169fb187b5c2d06b8e973d537d2517667a80e57ca1bae7a\n",
            "Best match: timm 0.1.20\n",
            "Processing timm-0.1.20-py3-none-any.whl\n",
            "Installing timm-0.1.20-py3-none-any.whl to /usr/local/lib/python3.10/dist-packages\n",
            "Adding timm 0.1.20 to easy-install.pth file\n",
            "\n",
            "Installed /usr/local/lib/python3.10/dist-packages/timm-0.1.20-py3.10.egg\n",
            "Searching for munkres\n",
            "Reading https://pypi.tuna.tsinghua.edu.cn/simple/munkres/\n",
            "Downloading https://pypi.tuna.tsinghua.edu.cn/packages/90/ab/0301c945a704218bc9435f0e3c88884f6b19ef234d8899fb47ce1ccfd0c9/munkres-1.1.4-py2.py3-none-any.whl#sha256=6b01867d4a8480d865aea2326e4b8f7c46431e9e55b4a2e32d989307d7bced2a\n",
            "Best match: munkres 1.1.4\n",
            "Processing munkres-1.1.4-py2.py3-none-any.whl\n",
            "Installing munkres-1.1.4-py2.py3-none-any.whl to /usr/local/lib/python3.10/dist-packages\n",
            "Adding munkres 1.1.4 to easy-install.pth file\n",
            "\n",
            "Installed /usr/local/lib/python3.10/dist-packages/munkres-1.1.4-py3.10.egg\n",
            "Searching for halpecocotools\n",
            "Reading https://pypi.tuna.tsinghua.edu.cn/simple/halpecocotools/\n",
            "Downloading https://pypi.tuna.tsinghua.edu.cn/packages/f9/b0/f2e783a29a30cf0e66e3bbc45cdc4da6e9214bc21f4df948ee9a7d79764e/halpecocotools-0.0.0.tar.gz#sha256=8355964f7d14e69b2a555be7e116eae8979ec2a04f0eef16d140b38d04f933eb\n",
            "Best match: halpecocotools 0.0.0\n",
            "Processing halpecocotools-0.0.0.tar.gz\n",
            "Writing /tmp/easy_install-cz3wmqf5/halpecocotools-0.0.0/setup.cfg\n",
            "Running halpecocotools-0.0.0/setup.py -q bdist_egg --dist-dir /tmp/easy_install-cz3wmqf5/halpecocotools-0.0.0/egg-dist-tmp-6ehby_fk\n",
            "warning: no files found matching '*.pxd'\n",
            "warning: no files found matching '*.pyx'\n",
            "/usr/local/lib/python3.10/dist-packages/setuptools/_distutils/cmd.py:66: SetuptoolsDeprecationWarning: setup.py install is deprecated.\n",
            "!!\n",
            "\n",
            "        ********************************************************************************\n",
            "        Please avoid running ``setup.py`` directly.\n",
            "        Instead, use pypa/build, pypa/installer, pypa/build or\n",
            "        other standards-based tools.\n",
            "\n",
            "        See https://blog.ganssle.io/articles/2021/10/setup-py-deprecated.html for details.\n",
            "        ********************************************************************************\n",
            "\n",
            "!!\n",
            "  self.initialize_options()\n",
            "/usr/local/lib/python3.10/dist-packages/Cython/Compiler/Main.py:381: FutureWarning: Cython directive 'language_level' not set, using '3str' for now (Py3). This has changed from earlier releases! File: /tmp/easy_install-cz3wmqf5/halpecocotools-0.0.0/halpecocotools/_mask.pyx\n",
            "  tree = Parsing.p_module(s, pxd, full_module_name)\n",
            "Traceback (most recent call last):\n",
            "  File \"Cython/Compiler/Visitor.py\", line 182, in Cython.Compiler.Visitor.TreeVisitor._visit\n",
            "  File \"/usr/local/lib/python3.10/dist-packages/Cython/Compiler/ParseTreeTransforms.py\", line 3113, in visit_StatListNode\n",
            "    if not self.current_directives['remove_unreachable']:\n",
            "TypeError: 'NoneType' object is not subscriptable\n",
            "\n",
            "During handling of the above exception, another exception occurred:\n",
            "\n",
            "Traceback (most recent call last):\n",
            "  File \"/usr/local/lib/python3.10/dist-packages/setuptools/sandbox.py\", line 156, in save_modules\n",
            "    yield saved\n",
            "  File \"/usr/local/lib/python3.10/dist-packages/setuptools/sandbox.py\", line 198, in setup_context\n",
            "    yield\n",
            "  File \"/usr/local/lib/python3.10/dist-packages/setuptools/sandbox.py\", line 259, in run_setup\n",
            "    _execfile(setup_script, ns)\n",
            "  File \"/usr/local/lib/python3.10/dist-packages/setuptools/sandbox.py\", line 46, in _execfile\n",
            "    exec(code, globals, locals)\n",
            "  File \"/tmp/easy_install-cz3wmqf5/halpecocotools-0.0.0/setup.py\", line 16, in <module>\n",
            "    \n",
            "  File \"/usr/local/lib/python3.10/dist-packages/setuptools/__init__.py\", line 107, in setup\n",
            "    return distutils.core.setup(**attrs)\n",
            "  File \"/usr/local/lib/python3.10/dist-packages/setuptools/_distutils/core.py\", line 185, in setup\n",
            "    return run_commands(dist)\n",
            "  File \"/usr/local/lib/python3.10/dist-packages/setuptools/_distutils/core.py\", line 201, in run_commands\n",
            "    dist.run_commands()\n",
            "  File \"/usr/local/lib/python3.10/dist-packages/setuptools/_distutils/dist.py\", line 969, in run_commands\n",
            "    self.run_command(cmd)\n",
            "  File \"/usr/local/lib/python3.10/dist-packages/setuptools/dist.py\", line 1244, in run_command\n",
            "    super().run_command(command)\n",
            "  File \"/usr/local/lib/python3.10/dist-packages/setuptools/_distutils/dist.py\", line 988, in run_command\n",
            "    cmd_obj.run()\n",
            "  File \"/usr/local/lib/python3.10/dist-packages/setuptools/command/bdist_egg.py\", line 164, in run\n",
            "    cmd = self.call_command('install_lib', warn_dir=0)\n",
            "  File \"/usr/local/lib/python3.10/dist-packages/setuptools/command/bdist_egg.py\", line 150, in call_command\n",
            "    self.run_command(cmdname)\n",
            "  File \"/usr/local/lib/python3.10/dist-packages/setuptools/_distutils/cmd.py\", line 318, in run_command\n",
            "    self.distribution.run_command(command)\n",
            "  File \"/usr/local/lib/python3.10/dist-packages/setuptools/dist.py\", line 1244, in run_command\n",
            "    super().run_command(command)\n",
            "  File \"/usr/local/lib/python3.10/dist-packages/setuptools/_distutils/dist.py\", line 988, in run_command\n",
            "    cmd_obj.run()\n",
            "  File \"/usr/local/lib/python3.10/dist-packages/setuptools/command/install_lib.py\", line 11, in run\n",
            "    self.build()\n",
            "  File \"/usr/local/lib/python3.10/dist-packages/setuptools/_distutils/command/install_lib.py\", line 111, in build\n",
            "    self.run_command('build_ext')\n",
            "  File \"/usr/local/lib/python3.10/dist-packages/setuptools/_distutils/cmd.py\", line 318, in run_command\n",
            "    self.distribution.run_command(command)\n",
            "  File \"/usr/local/lib/python3.10/dist-packages/setuptools/dist.py\", line 1244, in run_command\n",
            "    super().run_command(command)\n",
            "  File \"/usr/local/lib/python3.10/dist-packages/setuptools/_distutils/dist.py\", line 988, in run_command\n",
            "    cmd_obj.run()\n",
            "  File \"/usr/local/lib/python3.10/dist-packages/setuptools/command/build_ext.py\", line 84, in run\n",
            "    _build_ext.run(self)\n",
            "  File \"/usr/local/lib/python3.10/dist-packages/setuptools/_distutils/command/build_ext.py\", line 345, in run\n",
            "    self.build_extensions()\n",
            "  File \"/usr/local/lib/python3.10/dist-packages/setuptools/_distutils/command/build_ext.py\", line 467, in build_extensions\n",
            "    self._build_extensions_serial()\n",
            "  File \"/usr/local/lib/python3.10/dist-packages/setuptools/_distutils/command/build_ext.py\", line 493, in _build_extensions_serial\n",
            "    self.build_extension(ext)\n",
            "  File \"/usr/local/lib/python3.10/dist-packages/setuptools/command/build_ext.py\", line 246, in build_extension\n",
            "    _build_ext.build_extension(self, ext)\n",
            "  File \"/usr/local/lib/python3.10/dist-packages/Cython/Distutils/build_ext.py\", line 130, in build_extension\n",
            "    new_ext = cythonize(\n",
            "  File \"/usr/local/lib/python3.10/dist-packages/Cython/Build/Dependencies.py\", line 1154, in cythonize\n",
            "    cythonize_one(*args)\n",
            "  File \"/usr/local/lib/python3.10/dist-packages/Cython/Build/Dependencies.py\", line 1300, in cythonize_one\n",
            "    result = compile_single(pyx_file, options, full_module_name=full_module_name)\n",
            "  File \"/usr/local/lib/python3.10/dist-packages/Cython/Compiler/Main.py\", line 615, in compile_single\n",
            "    return run_pipeline(source, options, full_module_name)\n",
            "  File \"/usr/local/lib/python3.10/dist-packages/Cython/Compiler/Main.py\", line 539, in run_pipeline\n",
            "    err, enddata = Pipeline.run_pipeline(pipeline, source)\n",
            "  File \"/usr/local/lib/python3.10/dist-packages/Cython/Compiler/Pipeline.py\", line 398, in run_pipeline\n",
            "    data = run(phase, data)\n",
            "  File \"/usr/local/lib/python3.10/dist-packages/Cython/Compiler/Pipeline.py\", line 375, in run\n",
            "    return phase(data)\n",
            "  File \"Cython/Compiler/Visitor.py\", line 312, in Cython.Compiler.Visitor.CythonTransform.__call__\n",
            "  File \"Cython/Compiler/Visitor.py\", line 294, in Cython.Compiler.Visitor.VisitorTransform.__call__\n",
            "  File \"Cython/Compiler/Visitor.py\", line 184, in Cython.Compiler.Visitor.TreeVisitor._visit\n",
            "  File \"Cython/Compiler/Visitor.py\", line 182, in Cython.Compiler.Visitor.TreeVisitor._visit\n",
            "  File \"Cython/Compiler/Visitor.py\", line 322, in Cython.Compiler.Visitor.CythonTransform.visit_Node\n",
            "  File \"Cython/Compiler/Visitor.py\", line 260, in Cython.Compiler.Visitor.VisitorTransform._process_children\n",
            "  File \"Cython/Compiler/Visitor.py\", line 227, in Cython.Compiler.Visitor.TreeVisitor._visitchildren\n",
            "  File \"Cython/Compiler/Visitor.py\", line 196, in Cython.Compiler.Visitor.TreeVisitor._visitchild\n",
            "  File \"Cython/Compiler/Visitor.py\", line 190, in Cython.Compiler.Visitor.TreeVisitor._visit\n",
            "  File \"Cython/Compiler/Visitor.py\", line 148, in Cython.Compiler.Visitor.TreeVisitor._raise_compiler_error\n",
            "Cython.Compiler.Errors.CompilerCrash: \n",
            "Error compiling Cython file:\n",
            "------------------------------------------------------------\n",
            "...\n",
            "# distutils: language = c\n",
            "^\n",
            "------------------------------------------------------------\n",
            "\n",
            "halpecocotools/_mask.pyx:1:0: Compiler crash in RemoveUnreachableCode\n",
            "\n",
            "ModuleNode.body = StatListNode(_mask.pyx:1:0)\n",
            "\n",
            "Compiler crash traceback from this point on:\n",
            "  File \"Cython/Compiler/Visitor.py\", line 182, in Cython.Compiler.Visitor.TreeVisitor._visit\n",
            "  File \"/usr/local/lib/python3.10/dist-packages/Cython/Compiler/ParseTreeTransforms.py\", line 3113, in visit_StatListNode\n",
            "    if not self.current_directives['remove_unreachable']:\n",
            "TypeError: 'NoneType' object is not subscriptable\n",
            "\n",
            "During handling of the above exception, another exception occurred:\n",
            "\n",
            "Traceback (most recent call last):\n",
            "  File \"/content/AlphaPose/setup.py\", line 187, in <module>\n",
            "    setup(\n",
            "  File \"/usr/local/lib/python3.10/dist-packages/setuptools/__init__.py\", line 107, in setup\n",
            "    return distutils.core.setup(**attrs)\n",
            "  File \"/usr/local/lib/python3.10/dist-packages/setuptools/_distutils/core.py\", line 185, in setup\n",
            "    return run_commands(dist)\n",
            "  File \"/usr/local/lib/python3.10/dist-packages/setuptools/_distutils/core.py\", line 201, in run_commands\n",
            "    dist.run_commands()\n",
            "  File \"/usr/local/lib/python3.10/dist-packages/setuptools/_distutils/dist.py\", line 969, in run_commands\n",
            "    self.run_command(cmd)\n",
            "  File \"/usr/local/lib/python3.10/dist-packages/setuptools/dist.py\", line 1244, in run_command\n",
            "    super().run_command(command)\n",
            "  File \"/usr/local/lib/python3.10/dist-packages/setuptools/_distutils/dist.py\", line 988, in run_command\n",
            "    cmd_obj.run()\n",
            "  File \"/usr/local/lib/python3.10/dist-packages/setuptools/command/develop.py\", line 34, in run\n",
            "    self.install_for_development()\n",
            "  File \"/usr/local/lib/python3.10/dist-packages/setuptools/command/develop.py\", line 130, in install_for_development\n",
            "    self.process_distribution(None, self.dist, not self.no_deps)\n",
            "  File \"/usr/local/lib/python3.10/dist-packages/setuptools/command/easy_install.py\", line 750, in process_distribution\n",
            "    distros = WorkingSet([]).resolve(\n",
            "  File \"/usr/local/lib/python3.10/dist-packages/pkg_resources/__init__.py\", line 827, in resolve\n",
            "    dist = self._resolve_dist(\n",
            "  File \"/usr/local/lib/python3.10/dist-packages/pkg_resources/__init__.py\", line 863, in _resolve_dist\n",
            "    dist = best[req.key] = env.best_match(\n",
            "  File \"/usr/local/lib/python3.10/dist-packages/pkg_resources/__init__.py\", line 1133, in best_match\n",
            "    return self.obtain(req, installer)\n",
            "  File \"/usr/local/lib/python3.10/dist-packages/pkg_resources/__init__.py\", line 1145, in obtain\n",
            "    return installer(requirement)\n",
            "  File \"/usr/local/lib/python3.10/dist-packages/setuptools/command/easy_install.py\", line 677, in easy_install\n",
            "    return self.install_item(spec, dist.location, tmpdir, deps)\n",
            "  File \"/usr/local/lib/python3.10/dist-packages/setuptools/command/easy_install.py\", line 703, in install_item\n",
            "    dists = self.install_eggs(spec, download, tmpdir)\n",
            "  File \"/usr/local/lib/python3.10/dist-packages/setuptools/command/easy_install.py\", line 896, in install_eggs\n",
            "    return self.build_and_install(setup_script, setup_base)\n",
            "  File \"/usr/local/lib/python3.10/dist-packages/setuptools/command/easy_install.py\", line 1170, in build_and_install\n",
            "    self.run_setup(setup_script, setup_base, args)\n",
            "  File \"/usr/local/lib/python3.10/dist-packages/setuptools/command/easy_install.py\", line 1154, in run_setup\n",
            "    run_setup(setup_script, args)\n",
            "  File \"/usr/local/lib/python3.10/dist-packages/setuptools/sandbox.py\", line 249, in run_setup\n",
            "    with setup_context(setup_dir):\n",
            "  File \"/usr/lib/python3.10/contextlib.py\", line 153, in __exit__\n",
            "    self.gen.throw(typ, value, traceback)\n",
            "  File \"/usr/local/lib/python3.10/dist-packages/setuptools/sandbox.py\", line 190, in setup_context\n",
            "    with save_modules():\n",
            "  File \"/usr/lib/python3.10/contextlib.py\", line 153, in __exit__\n",
            "    self.gen.throw(typ, value, traceback)\n",
            "  File \"/usr/local/lib/python3.10/dist-packages/setuptools/sandbox.py\", line 169, in save_modules\n",
            "    saved_exc.resume()\n",
            "  File \"/usr/local/lib/python3.10/dist-packages/setuptools/sandbox.py\", line 143, in resume\n",
            "    raise exc.with_traceback(self._tb)\n",
            "  File \"/usr/local/lib/python3.10/dist-packages/setuptools/sandbox.py\", line 156, in save_modules\n",
            "    yield saved\n",
            "  File \"/usr/local/lib/python3.10/dist-packages/setuptools/sandbox.py\", line 198, in setup_context\n",
            "    yield\n",
            "  File \"/usr/local/lib/python3.10/dist-packages/setuptools/sandbox.py\", line 259, in run_setup\n",
            "    _execfile(setup_script, ns)\n",
            "  File \"/usr/local/lib/python3.10/dist-packages/setuptools/sandbox.py\", line 46, in _execfile\n",
            "    exec(code, globals, locals)\n",
            "  File \"/tmp/easy_install-cz3wmqf5/halpecocotools-0.0.0/setup.py\", line 16, in <module>\n",
            "    \n",
            "  File \"/usr/local/lib/python3.10/dist-packages/setuptools/__init__.py\", line 107, in setup\n",
            "    return distutils.core.setup(**attrs)\n",
            "  File \"/usr/local/lib/python3.10/dist-packages/setuptools/_distutils/core.py\", line 185, in setup\n",
            "    return run_commands(dist)\n",
            "  File \"/usr/local/lib/python3.10/dist-packages/setuptools/_distutils/core.py\", line 201, in run_commands\n",
            "    dist.run_commands()\n",
            "  File \"/usr/local/lib/python3.10/dist-packages/setuptools/_distutils/dist.py\", line 969, in run_commands\n",
            "    self.run_command(cmd)\n",
            "  File \"/usr/local/lib/python3.10/dist-packages/setuptools/dist.py\", line 1244, in run_command\n",
            "    super().run_command(command)\n",
            "  File \"/usr/local/lib/python3.10/dist-packages/setuptools/_distutils/dist.py\", line 988, in run_command\n",
            "    cmd_obj.run()\n",
            "  File \"/usr/local/lib/python3.10/dist-packages/setuptools/command/bdist_egg.py\", line 164, in run\n",
            "    cmd = self.call_command('install_lib', warn_dir=0)\n",
            "  File \"/usr/local/lib/python3.10/dist-packages/setuptools/command/bdist_egg.py\", line 150, in call_command\n",
            "    self.run_command(cmdname)\n",
            "  File \"/usr/local/lib/python3.10/dist-packages/setuptools/_distutils/cmd.py\", line 318, in run_command\n",
            "    self.distribution.run_command(command)\n",
            "  File \"/usr/local/lib/python3.10/dist-packages/setuptools/dist.py\", line 1244, in run_command\n",
            "    super().run_command(command)\n",
            "  File \"/usr/local/lib/python3.10/dist-packages/setuptools/_distutils/dist.py\", line 988, in run_command\n",
            "    cmd_obj.run()\n",
            "  File \"/usr/local/lib/python3.10/dist-packages/setuptools/command/install_lib.py\", line 11, in run\n",
            "    self.build()\n",
            "  File \"/usr/local/lib/python3.10/dist-packages/setuptools/_distutils/command/install_lib.py\", line 111, in build\n",
            "    self.run_command('build_ext')\n",
            "  File \"/usr/local/lib/python3.10/dist-packages/setuptools/_distutils/cmd.py\", line 318, in run_command\n",
            "    self.distribution.run_command(command)\n",
            "  File \"/usr/local/lib/python3.10/dist-packages/setuptools/dist.py\", line 1244, in run_command\n",
            "    super().run_command(command)\n",
            "  File \"/usr/local/lib/python3.10/dist-packages/setuptools/_distutils/dist.py\", line 988, in run_command\n",
            "    cmd_obj.run()\n",
            "  File \"/usr/local/lib/python3.10/dist-packages/setuptools/command/build_ext.py\", line 84, in run\n",
            "    _build_ext.run(self)\n",
            "  File \"/usr/local/lib/python3.10/dist-packages/setuptools/_distutils/command/build_ext.py\", line 345, in run\n",
            "    self.build_extensions()\n",
            "  File \"/usr/local/lib/python3.10/dist-packages/setuptools/_distutils/command/build_ext.py\", line 467, in build_extensions\n",
            "    self._build_extensions_serial()\n",
            "  File \"/usr/local/lib/python3.10/dist-packages/setuptools/_distutils/command/build_ext.py\", line 493, in _build_extensions_serial\n",
            "    self.build_extension(ext)\n",
            "  File \"/usr/local/lib/python3.10/dist-packages/setuptools/command/build_ext.py\", line 246, in build_extension\n",
            "    _build_ext.build_extension(self, ext)\n",
            "  File \"/usr/local/lib/python3.10/dist-packages/Cython/Distutils/build_ext.py\", line 130, in build_extension\n",
            "    new_ext = cythonize(\n",
            "  File \"/usr/local/lib/python3.10/dist-packages/Cython/Build/Dependencies.py\", line 1154, in cythonize\n",
            "    cythonize_one(*args)\n",
            "  File \"/usr/local/lib/python3.10/dist-packages/Cython/Build/Dependencies.py\", line 1300, in cythonize_one\n",
            "    result = compile_single(pyx_file, options, full_module_name=full_module_name)\n",
            "  File \"/usr/local/lib/python3.10/dist-packages/Cython/Compiler/Main.py\", line 615, in compile_single\n",
            "    return run_pipeline(source, options, full_module_name)\n",
            "  File \"/usr/local/lib/python3.10/dist-packages/Cython/Compiler/Main.py\", line 539, in run_pipeline\n",
            "    err, enddata = Pipeline.run_pipeline(pipeline, source)\n",
            "  File \"/usr/local/lib/python3.10/dist-packages/Cython/Compiler/Pipeline.py\", line 398, in run_pipeline\n",
            "    data = run(phase, data)\n",
            "  File \"/usr/local/lib/python3.10/dist-packages/Cython/Compiler/Pipeline.py\", line 375, in run\n",
            "    return phase(data)\n",
            "  File \"Cython/Compiler/Visitor.py\", line 312, in Cython.Compiler.Visitor.CythonTransform.__call__\n",
            "  File \"Cython/Compiler/Visitor.py\", line 294, in Cython.Compiler.Visitor.VisitorTransform.__call__\n",
            "  File \"Cython/Compiler/Visitor.py\", line 184, in Cython.Compiler.Visitor.TreeVisitor._visit\n",
            "  File \"Cython/Compiler/Visitor.py\", line 182, in Cython.Compiler.Visitor.TreeVisitor._visit\n",
            "  File \"Cython/Compiler/Visitor.py\", line 322, in Cython.Compiler.Visitor.CythonTransform.visit_Node\n",
            "  File \"Cython/Compiler/Visitor.py\", line 260, in Cython.Compiler.Visitor.VisitorTransform._process_children\n",
            "  File \"Cython/Compiler/Visitor.py\", line 227, in Cython.Compiler.Visitor.TreeVisitor._visitchildren\n",
            "  File \"Cython/Compiler/Visitor.py\", line 196, in Cython.Compiler.Visitor.TreeVisitor._visitchild\n",
            "  File \"Cython/Compiler/Visitor.py\", line 190, in Cython.Compiler.Visitor.TreeVisitor._visit\n",
            "  File \"Cython/Compiler/Visitor.py\", line 148, in Cython.Compiler.Visitor.TreeVisitor._raise_compiler_error\n",
            "setuptools.sandbox.UnpickleableException: CompilerCrash((<FileSourceDescriptor:/tmp/easy_install-cz3wmqf5/halpecocotools-0.0.0/halpecocotools/_mask.pyx>, 1, 0), 'RemoveUnreachableCode', 'Compiler crash in RemoveUnreachableCode\\n\\nModuleNode.body = StatListNode(_mask.pyx:1:0)\\n\\nCompiler crash traceback from this point on:\\n  File \"Cython/Compiler/Visitor.py\", line 182, in Cython.Compiler.Visitor.TreeVisitor._visit\\n  File \"/usr/local/lib/python3.10/dist-packages/Cython/Compiler/ParseTreeTransforms.py\", line 3113, in visit_StatListNode\\n    if not self.current_directives[\\'remove_unreachable\\']:\\nTypeError: \\'NoneType\\' object is not subscriptable', TypeError(\"'NoneType' object is not subscriptable\"), <traceback object at 0x7e2f851ea7c0>)\n",
            "/content\n"
          ]
        }
      ],
      "source": [
        "!git clone https://github.com/MVIG-SJTU/AlphaPose.git\n",
        "\n",
        "os.chdir('/content/AlphaPose')\n",
        "print(os.getcwd())\n",
        "! python setup.py build develop\n",
        "\n",
        "os.chdir('/content')\n",
        "print(os.getcwd())"
      ]
    },
    {
      "cell_type": "code",
      "execution_count": null,
      "metadata": {
        "colab": {
          "base_uri": "https://localhost:8080/"
        },
        "id": "GORSxJDvplHp",
        "outputId": "69c27e66-9a8e-4269-e3ce-7e2c74dc7660"
      },
      "outputs": [
        {
          "output_type": "stream",
          "name": "stdout",
          "text": [
            "Mounted at /content/drive\n"
          ]
        }
      ],
      "source": [
        "from google.colab import drive\n",
        "drive.mount('/content/drive')"
      ]
    },
    {
      "cell_type": "code",
      "execution_count": null,
      "metadata": {
        "id": "6bfQmarjvOsK"
      },
      "outputs": [],
      "source": [
        "os.mkdir('/content/AlphaPose/detector/yolo/data/')\n",
        "os.mkdir('/content/AlphaPose/detector/tracker/data/')\n",
        "os.mkdir('/content/AlphaPose/trackers/weights/')"
      ]
    },
    {
      "cell_type": "code",
      "execution_count": null,
      "metadata": {
        "id": "fZ6LRTX3twi0"
      },
      "outputs": [],
      "source": [
        "!cp /content/drive/MyDrive/alphapose/jde.1088x608.uncertainty.pt /content/AlphaPose/detector/tracker/data/\n",
        "!cp /content/drive/MyDrive/alphapose/yolov3-spp.weights /content/AlphaPose/detector/yolo/data/\n",
        "!cp /content/drive/MyDrive/alphapose/gait_happy.mp4 /content/"
      ]
    },
    {
      "cell_type": "code",
      "execution_count": null,
      "metadata": {
        "id": "Af-HqTFg04lO"
      },
      "outputs": [],
      "source": [
        "# 2d model\n",
        "# !cp /content/drive/MyDrive/alphapose/fast_res50_256x192.pth /content/AlphaPose/pretrained_models/\n",
        "\n",
        "# 2d model - halpe\n",
        "# !cp /content/drive/MyDrive/alphapose/halpe26_fast_res50_256x192.pth /content/AlphaPose/pretrained_models/\n",
        "\n",
        "# 3d model - hybrik\n",
        "!cp /content/drive/MyDrive/alphapose/HybrIK_pretrained_w_cam.pth /content/AlphaPose/pretrained_models/\n",
        "!cp /content/drive/MyDrive/alphapose/basicModel_neutral_lbs_10_207_0_v1.0.0.pkl /content/AlphaPose/model_files/"
      ]
    },
    {
      "cell_type": "code",
      "execution_count": null,
      "metadata": {
        "id": "b_8l-Uti1rVj"
      },
      "outputs": [],
      "source": [
        "# os.mkdir('/content/AlphaPose/trackers/weights/')\n",
        "# !cp /content/drive/MyDrive/alphapose/osnet_ain_x1_0_msmt17_256x128_amsgrad_ep50_lr0.0015_coslr_b64_fb10_softmax_labsmth_flip_jitter.pth /content/AlphaPose/trackers/weights/"
      ]
    },
    {
      "cell_type": "code",
      "execution_count": null,
      "metadata": {
        "id": "m7Op5jFcgOQM",
        "colab": {
          "base_uri": "https://localhost:8080/"
        },
        "outputId": "b2015308-e199-4d55-9dbd-f6174ac375e2"
      },
      "outputs": [
        {
          "output_type": "stream",
          "name": "stdout",
          "text": [
            "Collecting chumpy\n",
            "  Downloading chumpy-0.70.tar.gz (50 kB)\n",
            "\u001b[2K     \u001b[90m━━━━━━━━━━━━━━━━━━━━━━━━━━━━━━━━━━━━━━━━\u001b[0m \u001b[32m50.6/50.6 kB\u001b[0m \u001b[31m790.9 kB/s\u001b[0m eta \u001b[36m0:00:00\u001b[0m\n",
            "\u001b[?25h  Preparing metadata (setup.py) ... \u001b[?25l\u001b[?25hdone\n",
            "Requirement already satisfied: scipy>=0.13.0 in /usr/local/lib/python3.10/dist-packages (from chumpy) (1.11.4)\n",
            "Requirement already satisfied: six>=1.11.0 in /usr/local/lib/python3.10/dist-packages (from chumpy) (1.16.0)\n",
            "Requirement already satisfied: numpy<1.28.0,>=1.21.6 in /usr/local/lib/python3.10/dist-packages (from scipy>=0.13.0->chumpy) (1.25.2)\n",
            "Building wheels for collected packages: chumpy\n",
            "  Building wheel for chumpy (setup.py) ... \u001b[?25l\u001b[?25hdone\n",
            "  Created wheel for chumpy: filename=chumpy-0.70-py3-none-any.whl size=58263 sha256=ef9b0999afdb44072999c9671508b58888aec68f48d32d5c1db7688005824eb3\n",
            "  Stored in directory: /root/.cache/pip/wheels/e0/c1/ef/29ba7be03653a29ef6f2c3e1956d6c4d8877f2b243af411db1\n",
            "Successfully built chumpy\n",
            "Installing collected packages: chumpy\n",
            "Successfully installed chumpy-0.70\n",
            "Found existing installation: numpy 1.25.2\n",
            "Uninstalling numpy-1.25.2:\n",
            "  Would remove:\n",
            "    /usr/local/bin/f2py\n",
            "    /usr/local/bin/f2py3\n",
            "    /usr/local/bin/f2py3.10\n",
            "    /usr/local/lib/python3.10/dist-packages/numpy-1.25.2.dist-info/*\n",
            "    /usr/local/lib/python3.10/dist-packages/numpy.libs/libgfortran-040039e1.so.5.0.0\n",
            "    /usr/local/lib/python3.10/dist-packages/numpy.libs/libopenblas64_p-r0-5007b62f.3.23.dev.so\n",
            "    /usr/local/lib/python3.10/dist-packages/numpy.libs/libquadmath-96973f99.so.0.0.0\n",
            "    /usr/local/lib/python3.10/dist-packages/numpy/*\n",
            "Proceed (Y/n)? y\n",
            "  Successfully uninstalled numpy-1.25.2\n",
            "Collecting numpy==1.23.1\n",
            "  Downloading numpy-1.23.1-cp310-cp310-manylinux_2_17_x86_64.manylinux2014_x86_64.whl (17.0 MB)\n",
            "\u001b[2K     \u001b[90m━━━━━━━━━━━━━━━━━━━━━━━━━━━━━━━━━━━━━━━━\u001b[0m \u001b[32m17.0/17.0 MB\u001b[0m \u001b[31m65.1 MB/s\u001b[0m eta \u001b[36m0:00:00\u001b[0m\n",
            "\u001b[?25hInstalling collected packages: numpy\n",
            "\u001b[31mERROR: pip's dependency resolver does not currently take into account all the packages that are installed. This behaviour is the source of the following dependency conflicts.\n",
            "alphapose 0.5.0+c60106d requires halpecocotools, which is not installed.\n",
            "alphapose 0.5.0+c60106d requires tensorboardx, which is not installed.\n",
            "alphapose 0.5.0+c60106d requires terminaltables, which is not installed.\n",
            "alphapose 0.5.0+c60106d requires visdom, which is not installed.\n",
            "chex 0.1.86 requires numpy>=1.24.1, but you have numpy 1.23.1 which is incompatible.\n",
            "pandas-stubs 2.0.3.230814 requires numpy>=1.25.0; python_version >= \"3.9\", but you have numpy 1.23.1 which is incompatible.\n",
            "tensorflow 2.15.0 requires numpy<2.0.0,>=1.23.5, but you have numpy 1.23.1 which is incompatible.\u001b[0m\u001b[31m\n",
            "\u001b[0mSuccessfully installed numpy-1.23.1\n"
          ]
        }
      ],
      "source": [
        "!pip install chumpy\n",
        "!python -m pip uninstall numpy\n",
        "!python -m pip install numpy==1.23.1"
      ]
    },
    {
      "cell_type": "markdown",
      "metadata": {
        "id": "ymDbNnOOicUD"
      },
      "source": [
        "# Inference KOA dataset"
      ]
    },
    {
      "cell_type": "code",
      "execution_count": null,
      "metadata": {
        "id": "gSHcDcsDM_pN"
      },
      "outputs": [],
      "source": [
        "import os\n",
        "os.chdir('/content/AlphaPose')"
      ]
    },
    {
      "cell_type": "code",
      "execution_count": null,
      "metadata": {
        "id": "aQVbhurIs6jX",
        "colab": {
          "base_uri": "https://localhost:8080/"
        },
        "outputId": "d2ed8662-ffd6-4ba6-fbc7-e9237ca856c6"
      },
      "outputs": [
        {
          "output_type": "stream",
          "name": "stdout",
          "text": [
            "2024-06-09 18:01:14 [DEBUG]: Loaded backend agg version v2.2.\n",
            "Traceback (most recent call last):\n",
            "  File \"/content/AlphaPose/scripts/demo_3d_inference.py\", line 165, in <module>\n",
            "    mode, input_source = check_input()\n",
            "  File \"/content/AlphaPose/scripts/demo_3d_inference.py\", line 118, in check_input\n",
            "    raise IOError('Error: --video must refer to a video file, not directory.')\n",
            "OSError: Error: --video must refer to a video file, not directory.\n",
            "mv: cannot stat '/content/outputs/001_KOA_01_EL/alphapose-results.json': No such file or directory\n"
          ]
        }
      ],
      "source": [
        "file_name = '001_KOA_01_EL' # 001_NM_01  001_KOA_02_EL\n",
        "\n",
        "outputs_dir = os.path.join('/content/outputs', file_name)\n",
        "#video_dir = '/content/gait_happy2.mp4'\n",
        "\n",
        "\n",
        "#outputs_dir = '/content/drive/MyDrive/alphapose/outputs'\n",
        "video_dir = '/content/drive/MyDrive/dataset_sample_koa/'+file_name+'.MOV'\n",
        "\n",
        "in_compressed_video = outputs_dir+'/AlphaPose_'+video_dir.split('/')[-1].split('.')[0]+'.mp4'\n",
        "out_compressed_video = outputs_dir+'/AlphaPose_'+video_dir.split('/')[-1].split('.')[0]+'_compressed.mp4'\n",
        "\n",
        "! python3 scripts/demo_3d_inference.py --cfg configs/smpl/256x192_adam_lr1e-3-res34_smpl_24_3d_base_2x_mix.yaml --checkpoint pretrained_models/HybrIK_pretrained_w_cam.pth --video {video_dir} --outdir {outputs_dir}\n",
        "# ! python3 scripts/demo_inference.py --cfg configs/halpe_26/resnet/256x192_res50_lr1e-3_1x.yaml --checkpoint pretrained_models/halpe26_fast_res50_256x192.pth --video {video_dir} --outdir {outputs_dir} --save_video\n",
        "#! ffmpeg -i {in_compressed_video} -vcodec libx264 {out_compressed_video}\n",
        "\n",
        "json_name = os.path.join(outputs_dir, file_name+'_results.json')\n",
        "! mv {os.path.join(outputs_dir, 'alphapose-results.json')} {json_name}\n"
      ]
    },
    {
      "cell_type": "code",
      "execution_count": null,
      "metadata": {
        "id": "nhdte3aDP4Tu"
      },
      "outputs": [],
      "source": [
        "!cp {json_name} /content/drive/MyDrive/alphapose/dataset_koa_results/\n",
        "# !cp {out_compressed_video} /content/drive/MyDrive/alphapose/dataset_koa_results/"
      ]
    },
    {
      "cell_type": "code",
      "source": [
        "folder_dir = '/content/drive/MyDrive/KOA_MD/'\n",
        "os.listdir(folder_dir)[5:]"
      ],
      "metadata": {
        "colab": {
          "base_uri": "https://localhost:8080/"
        },
        "id": "ydEv4-SCn5mr",
        "outputId": "1269d116-e752-416f-d5f4-59f68ef0510b"
      },
      "execution_count": null,
      "outputs": [
        {
          "output_type": "execute_result",
          "data": {
            "text/plain": [
              "['003_KOA_02_MD.MOV',\n",
              " '004_KOA_01_MD.MOV',\n",
              " '004_KOA_02_MD.MOV',\n",
              " '005_KOA_01_MD.MOV',\n",
              " '005_KOA_02_MD.MOV',\n",
              " '007_KOA_01_MD.MOV',\n",
              " '007_KOA_02_MD.MOV',\n",
              " '008_KOA_01_MD.MOV',\n",
              " '008_KOA_02_MD.MOV',\n",
              " '009_KOA_01_MD.MOV',\n",
              " '009_KOA_02_MD.MOV',\n",
              " '010_KOA_01_MD.MOV',\n",
              " '010_KOA_02_MD.MOV',\n",
              " '011_KOA_01_MD.MOV',\n",
              " '011_KOA_02_MD.MOV',\n",
              " '012_KOA_01_MD.MOV',\n",
              " '012_KOA_02_MD.MOV',\n",
              " '013_KOA_01_MD.MOV',\n",
              " '013_KOA_02_MD.MOV',\n",
              " '014_KOA_01_MD.MOV',\n",
              " '014_KOA_02_MD.MOV',\n",
              " '015_KOA_01_MD.MOV',\n",
              " '015_KOA_02_MD.MOV',\n",
              " '016_KOA_01_MD.MOV',\n",
              " '016_KOA_02_MD.MOV',\n",
              " '017_KOA_01_MD.MOV',\n",
              " '017_KOA_02_MD.MOV',\n",
              " '018_KOA_01_MD.MOV',\n",
              " '018_KOA_02_MD.MOV',\n",
              " '019_KOA_01_MD.MOV',\n",
              " '019_KOA_02_MD.MOV',\n",
              " '020_KOA_01_MD.MOV',\n",
              " '020_KOA_02_MD.MOV',\n",
              " '001_KOA_01_MD.MOV',\n",
              " '001_KOA_02_MD.MOV']"
            ]
          },
          "metadata": {},
          "execution_count": 15
        }
      ]
    },
    {
      "cell_type": "code",
      "execution_count": null,
      "metadata": {
        "id": "tbSkYAL65w9M",
        "colab": {
          "base_uri": "https://localhost:8080/"
        },
        "outputId": "eb6e8d61-a4b9-4c2b-dfc5-11a06602d765"
      },
      "outputs": [
        {
          "output_type": "stream",
          "name": "stdout",
          "text": [
            "2024-06-11 05:50:10 [DEBUG]: Loaded backend agg version v2.2.\n",
            "/usr/local/lib/python3.10/dist-packages/torchvision/models/_utils.py:208: UserWarning: The parameter 'pretrained' is deprecated since 0.13 and may be removed in the future, please use 'weights' instead.\n",
            "  warnings.warn(\n",
            "/usr/local/lib/python3.10/dist-packages/torchvision/models/_utils.py:223: UserWarning: Arguments other than a weight enum or `None` for 'weights' are deprecated since 0.13 and may be removed in the future. The current behavior is equivalent to passing `weights=ResNet34_Weights.IMAGENET1K_V1`. You can also use `weights=ResNet34_Weights.DEFAULT` to get the most up-to-date weights.\n",
            "  warnings.warn(msg)\n",
            "Loading pose model from pretrained_models/HybrIK_pretrained_w_cam.pth...\n",
            "  0% 0/139 [00:00<?, ?it/s]2024-06-11 05:50:22 [DEBUG]: Loaded backend agg version v2.2.\n",
            "2024-06-11 05:50:23 [DEBUG]: Loaded backend agg version v2.2.\n",
            "2024-06-11 05:50:23 [DEBUG]: Loaded backend agg version v2.2.\n",
            "Loading YOLO model..\n",
            "2024-06-11 05:50:26 [DEBUG]: Loaded backend agg version v2.2.\n",
            "100% 139/139 [00:36<00:00,  3.86it/s]\n",
            "===========================> Finish Model Running.\n",
            "Results have been written to json.\n",
            "2024-06-11 05:51:00 [DEBUG]: Loaded backend agg version v2.2.\n",
            "/usr/local/lib/python3.10/dist-packages/torchvision/models/_utils.py:208: UserWarning: The parameter 'pretrained' is deprecated since 0.13 and may be removed in the future, please use 'weights' instead.\n",
            "  warnings.warn(\n",
            "/usr/local/lib/python3.10/dist-packages/torchvision/models/_utils.py:223: UserWarning: Arguments other than a weight enum or `None` for 'weights' are deprecated since 0.13 and may be removed in the future. The current behavior is equivalent to passing `weights=ResNet34_Weights.IMAGENET1K_V1`. You can also use `weights=ResNet34_Weights.DEFAULT` to get the most up-to-date weights.\n",
            "  warnings.warn(msg)\n",
            "Loading pose model from pretrained_models/HybrIK_pretrained_w_cam.pth...\n",
            "  0% 0/225 [00:00<?, ?it/s]2024-06-11 05:51:13 [DEBUG]: Loaded backend agg version v2.2.\n",
            "2024-06-11 05:51:13 [DEBUG]: Loaded backend agg version v2.2.\n",
            "2024-06-11 05:51:13 [DEBUG]: Loaded backend agg version v2.2.\n",
            "Loading YOLO model..\n",
            "2024-06-11 05:51:15 [DEBUG]: Loaded backend agg version v2.2.\n",
            "100% 225/225 [00:50<00:00,  4.49it/s]\n",
            "===========================> Finish Model Running.\n",
            "Results have been written to json.\n"
          ]
        }
      ],
      "source": [
        "folder_dir = '/content/drive/MyDrive/KOA_MD/'\n",
        "folder_dir = '/content/drive/MyDrive/NM/'\n",
        "# for file_name in os.listdir(folder_dir):\n",
        "for file_name in ['002_NM_02.mp4','004_NM_02.mp4']:\n",
        "  file_name = file_name.split('.')[0]\n",
        "\n",
        "  outputs_dir = os.path.join('/content/outputs', file_name)\n",
        "  #video_dir = '/content/gait_happy2.mp4'\n",
        "\n",
        "\n",
        "  #outputs_dir = '/content/drive/MyDrive/alphapose/outputs'\n",
        "  video_dir = folder_dir+file_name+'.mp4'\n",
        "\n",
        "  in_compressed_video = outputs_dir+'/AlphaPose_'+video_dir.split('/')[-1].split('.')[0]+'.mp4'\n",
        "  out_compressed_video = outputs_dir+'/AlphaPose_'+video_dir.split('/')[-1].split('.')[0]+'_compressed.mp4'\n",
        "\n",
        "  ! python3 scripts/demo_3d_inference.py --cfg configs/smpl/256x192_adam_lr1e-3-res34_smpl_24_3d_base_2x_mix.yaml --checkpoint pretrained_models/HybrIK_pretrained_w_cam.pth --video {video_dir} --outdir {outputs_dir}\n",
        "  # ! python3 scripts/demo_inference.py --cfg configs/halpe_26/resnet/256x192_res50_lr1e-3_1x.yaml --checkpoint pretrained_models/halpe26_fast_res50_256x192.pth --video {video_dir} --outdir {outputs_dir} --save_video\n",
        "  #! ffmpeg -i {in_compressed_video} -vcodec libx264 {out_compressed_video}\n",
        "\n",
        "  json_name = os.path.join(outputs_dir, file_name+'_results.json')\n",
        "  ! mv {os.path.join(outputs_dir, 'alphapose-results.json')} {json_name}\n",
        "\n",
        "  !cp {json_name} /content/drive/MyDrive/alphapose/dataset_koa_results/"
      ]
    },
    {
      "cell_type": "code",
      "execution_count": null,
      "metadata": {
        "id": "B7u71_F9uYj7"
      },
      "outputs": [],
      "source": [
        "import json\n",
        "\n",
        "# json_file_path = \"/content/outputs/001_NM_01/alphapose-results.json\"\n",
        "json_file_path = json_name\n",
        "\n",
        "with open(json_file_path, 'r') as j:\n",
        "     contents = json.loads(j.read())"
      ]
    },
    {
      "cell_type": "code",
      "execution_count": null,
      "metadata": {
        "id": "jyK6tVucYBnn"
      },
      "outputs": [],
      "source": [
        "contents"
      ]
    },
    {
      "cell_type": "code",
      "execution_count": null,
      "metadata": {
        "id": "7BKX5e_Bu4-R"
      },
      "outputs": [],
      "source": [
        "len(contents), contents[0].keys(), contents[0]"
      ]
    },
    {
      "cell_type": "code",
      "execution_count": null,
      "metadata": {
        "id": "NKSdOR6UY3FC"
      },
      "outputs": [],
      "source": [
        "len(contents[0]['pred_xyz_jts'])"
      ]
    },
    {
      "cell_type": "code",
      "execution_count": null,
      "metadata": {
        "id": "WQ1i1eE-wmsY"
      },
      "outputs": [],
      "source": [
        "[(int(i['image_id'].split('.')[0]), i['category_id'], i['idx'], i['score']) for i in contents]"
      ]
    },
    {
      "cell_type": "code",
      "execution_count": null,
      "metadata": {
        "id": "NtDJGXf2ob0u"
      },
      "outputs": [],
      "source": [
        "# definition of keypoints\n",
        "# https://github.com/Fang-Haoshu/Halpe-FullBody?tab=readme-ov-file"
      ]
    },
    {
      "cell_type": "code",
      "execution_count": null,
      "metadata": {
        "id": "nxGr1ZL127GG"
      },
      "outputs": [],
      "source": [
        "from IPython.display import HTML\n",
        "from base64 import b64encode\n",
        "\n",
        "# Show video\n",
        "# compressed_path = '/content/outputs/001_NM_01/AlphaPose_001_NM_01_compressed.mp4'\n",
        "compressed_path = out_compressed_video\n",
        "mp4 = open(compressed_path,'rb').read()\n",
        "data_url = \"data:video/mp4;base64,\" + b64encode(mp4).decode()\n",
        "HTML(\"\"\"\n",
        "<video width=400 controls>\n",
        "      <source src=\"%s\" type=\"video/mp4\">\n",
        "</video>\n",
        "\"\"\" % data_url)"
      ]
    },
    {
      "cell_type": "code",
      "execution_count": null,
      "metadata": {
        "id": "jBrSQCSBPWkO"
      },
      "outputs": [],
      "source": []
    },
    {
      "cell_type": "code",
      "execution_count": null,
      "metadata": {
        "id": "lAGLXXbHl50u"
      },
      "outputs": [],
      "source": [
        "import json\n",
        "import numpy as np\n",
        "\n",
        "data = json.load(open(\"/content/AlphaPose/examples/res/alphapose-results.json\"))\n",
        "len(data[10]['keypoints'])/3"
      ]
    },
    {
      "cell_type": "code",
      "execution_count": null,
      "metadata": {
        "id": "bMOdkUnDmRny"
      },
      "outputs": [],
      "source": [
        "d1l = []\n",
        "for data_i in data:\n",
        "  d1 = np.array(data_i['keypoints']).reshape(26,3)[14]\n",
        "  d1l.append(d1)"
      ]
    },
    {
      "cell_type": "code",
      "execution_count": null,
      "metadata": {
        "id": "bx3hz01Couje"
      },
      "outputs": [],
      "source": [
        "d1l"
      ]
    }
  ],
  "metadata": {
    "accelerator": "GPU",
    "colab": {
      "provenance": []
    },
    "kernelspec": {
      "display_name": "Python 3",
      "name": "python3"
    },
    "language_info": {
      "codemirror_mode": {
        "name": "ipython",
        "version": 3
      },
      "file_extension": ".py",
      "mimetype": "text/x-python",
      "name": "python",
      "nbconvert_exporter": "python",
      "pygments_lexer": "ipython3",
      "version": "3.12.1"
    }
  },
  "nbformat": 4,
  "nbformat_minor": 0
}